{
 "cells": [
  {
   "cell_type": "markdown",
   "id": "lhVeLerczw7C",
   "metadata": {
    "id": "lhVeLerczw7C"
   },
   "source": [
    "**Project** ---> <h4><b>TEXT CLASSIFICATION USING TENSORFLOW.</b></h4>\n",
    "<br>\n",
    "<h5>Let's start the project.</h5>"
   ]
  },
  {
   "cell_type": "markdown",
   "id": "_zJUqcL11__I",
   "metadata": {
    "id": "_zJUqcL11__I"
   },
   "source": [
    "# **Importing libraries**"
   ]
  },
  {
   "cell_type": "code",
   "execution_count": 1,
   "id": "9a365d99-bc59-47b6-9d2b-90356b471794",
   "metadata": {
    "id": "9a365d99-bc59-47b6-9d2b-90356b471794"
   },
   "outputs": [
    {
     "name": "stdout",
     "output_type": "stream",
     "text": [
      "WARNING:tensorflow:From C:\\Users\\User\\AppData\\Local\\Programs\\Python\\Python310\\lib\\site-packages\\keras\\src\\losses.py:2976: The name tf.losses.sparse_softmax_cross_entropy is deprecated. Please use tf.compat.v1.losses.sparse_softmax_cross_entropy instead.\n",
      "\n"
     ]
    }
   ],
   "source": [
    "import numpy as np\n",
    "#tensorflow packages\n",
    "import tensorflow as tf\n",
    "import tensorflow_hub as hub\n",
    "import tensorflow_datasets as tfds"
   ]
  },
  {
   "cell_type": "markdown",
   "id": "dkaTJdrN2Rv3",
   "metadata": {
    "id": "dkaTJdrN2Rv3"
   },
   "source": [
    "# **Loading IMDb Reviews Dataset**\n",
    "\n"
   ]
  },
  {
   "cell_type": "code",
   "execution_count": 2,
   "id": "82ca0f30-979d-4e62-9c8f-899ff5bc71ec",
   "metadata": {
    "id": "82ca0f30-979d-4e62-9c8f-899ff5bc71ec"
   },
   "outputs": [],
   "source": [
    "train_data, validation_data, test_data = tfds.load(\"imdb_reviews\",\n",
    "                                                   split=('train[:60%]', 'train[60%:]', 'test'),\n",
    "                                                   as_supervised=True)"
   ]
  },
  {
   "cell_type": "markdown",
   "id": "7I-8fm_w2p5j",
   "metadata": {
    "id": "7I-8fm_w2p5j"
   },
   "source": [
    "<h4>This line loads the IMDb Reviews dataset from TensorFlow Datasets and splits it into training, validation, and test sets. It uses a 60-20-20 split for training, validation, and test data respectively.</h4>"
   ]
  },
  {
   "cell_type": "code",
   "execution_count": 3,
   "id": "j3dWy9-m3d8B",
   "metadata": {
    "colab": {
     "base_uri": "https://localhost:8080/"
    },
    "id": "j3dWy9-m3d8B",
    "outputId": "0a881d1e-80d8-41f2-a815-b662070e5c55"
   },
   "outputs": [
    {
     "data": {
      "text/plain": [
       "<_PrefetchDataset element_spec=(TensorSpec(shape=(), dtype=tf.string, name=None), TensorSpec(shape=(), dtype=tf.int64, name=None))>"
      ]
     },
     "execution_count": 3,
     "metadata": {},
     "output_type": "execute_result"
    }
   ],
   "source": [
    "train_data"
   ]
  },
  {
   "cell_type": "markdown",
   "id": "P32_4w7L2uvb",
   "metadata": {
    "id": "P32_4w7L2uvb"
   },
   "source": [
    "# **Checking GPU Availability**\n",
    "\n",
    "<h4>This will check whether a GPU is available for TensorFlow to use or not.</h4>"
   ]
  },
  {
   "cell_type": "code",
   "execution_count": 4,
   "id": "d4ff94e4-af2d-4166-bca0-c1f9443fda42",
   "metadata": {
    "colab": {
     "base_uri": "https://localhost:8080/"
    },
    "id": "d4ff94e4-af2d-4166-bca0-c1f9443fda42",
    "outputId": "c1b0d0d5-569e-4847-ecc8-f15926cbc607"
   },
   "outputs": [
    {
     "name": "stdout",
     "output_type": "stream",
     "text": [
      "GPU is NOT available\n"
     ]
    }
   ],
   "source": [
    "print(\"GPU is\", \"available\" if tf.config.experimental.list_physical_devices(\"GPU\") else \"NOT available\")"
   ]
  },
  {
   "cell_type": "code",
   "execution_count": 5,
   "id": "d84cb6bf-db46-49c3-9e62-887626aecc35",
   "metadata": {
    "id": "d84cb6bf-db46-49c3-9e62-887626aecc35"
   },
   "outputs": [],
   "source": [
    "train_example_batch, train_labels_batch = next(iter(train_data.batch(10)))"
   ]
  },
  {
   "cell_type": "markdown",
   "id": "UYyL3UoE4CuJ",
   "metadata": {
    "id": "UYyL3UoE4CuJ"
   },
   "source": [
    "<h5>So, after executing this line of code, <b>train_example_batch</b> will contain a batch of 10 training examples, and <b>train_labels_batch</b> will contain their corresponding labels. These batches of data are typically used for training machine learning models in batches to improve training efficiency.</h5>"
   ]
  },
  {
   "cell_type": "code",
   "execution_count": 6,
   "id": "778ff154-2d7f-4350-afdf-d95d2605b229",
   "metadata": {
    "colab": {
     "base_uri": "https://localhost:8080/"
    },
    "id": "778ff154-2d7f-4350-afdf-d95d2605b229",
    "outputId": "1ab4f9c4-806c-47aa-f249-a2b973119769"
   },
   "outputs": [
    {
     "data": {
      "text/plain": [
       "<tf.Tensor: shape=(10,), dtype=string, numpy=\n",
       "array([b\"This was an absolutely terrible movie. Don't be lured in by Christopher Walken or Michael Ironside. Both are great actors, but this must simply be their worst role in history. Even their great acting could not redeem this movie's ridiculous storyline. This movie is an early nineties US propaganda piece. The most pathetic scenes were those when the Columbian rebels were making their cases for revolutions. Maria Conchita Alonso appeared phony, and her pseudo-love affair with Walken was nothing but a pathetic emotional plug in a movie that was devoid of any real meaning. I am disappointed that there are movies like this, ruining actor's like Christopher Walken's good name. I could barely sit through it.\",\n",
       "       b'I have been known to fall asleep during films, but this is usually due to a combination of things including, really tired, being warm and comfortable on the sette and having just eaten a lot. However on this occasion I fell asleep because the film was rubbish. The plot development was constant. Constantly slow and boring. Things seemed to happen, but with no explanation of what was causing them or why. I admit, I may have missed part of the film, but i watched the majority of it and everything just seemed to happen of its own accord without any real concern for anything else. I cant recommend this film at all.',\n",
       "       b'Mann photographs the Alberta Rocky Mountains in a superb fashion, and Jimmy Stewart and Walter Brennan give enjoyable performances as they always seem to do. <br /><br />But come on Hollywood - a Mountie telling the people of Dawson City, Yukon to elect themselves a marshal (yes a marshal!) and to enforce the law themselves, then gunfighters battling it out on the streets for control of the town? <br /><br />Nothing even remotely resembling that happened on the Canadian side of the border during the Klondike gold rush. Mr. Mann and company appear to have mistaken Dawson City for Deadwood, the Canadian North for the American Wild West.<br /><br />Canadian viewers be prepared for a Reefer Madness type of enjoyable howl with this ludicrous plot, or, to shake your head in disgust.',\n",
       "       b'This is the kind of film for a snowy Sunday afternoon when the rest of the world can go ahead with its own business as you descend into a big arm-chair and mellow for a couple of hours. Wonderful performances from Cher and Nicolas Cage (as always) gently row the plot along. There are no rapids to cross, no dangerous waters, just a warm and witty paddle through New York life at its best. A family film in every sense and one that deserves the praise it received.',\n",
       "       b'As others have mentioned, all the women that go nude in this film are mostly absolutely gorgeous. The plot very ably shows the hypocrisy of the female libido. When men are around they want to be pursued, but when no \"men\" are around, they become the pursuers of a 14 year old boy. And the boy becomes a man really fast (we should all be so lucky at this age!). He then gets up the courage to pursue his true love.',\n",
       "       b\"This is a film which should be seen by anybody interested in, effected by, or suffering from an eating disorder. It is an amazingly accurate and sensitive portrayal of bulimia in a teenage girl, its causes and its symptoms. The girl is played by one of the most brilliant young actresses working in cinema today, Alison Lohman, who was later so spectacular in 'Where the Truth Lies'. I would recommend that this film be shown in all schools, as you will never see a better on this subject. Alison Lohman is absolutely outstanding, and one marvels at her ability to convey the anguish of a girl suffering from this compulsive disorder. If barometers tell us the air pressure, Alison Lohman tells us the emotional pressure with the same degree of accuracy. Her emotional range is so precise, each scene could be measured microscopically for its gradations of trauma, on a scale of rising hysteria and desperation which reaches unbearable intensity. Mare Winningham is the perfect choice to play her mother, and does so with immense sympathy and a range of emotions just as finely tuned as Lohman's. Together, they make a pair of sensitive emotional oscillators vibrating in resonance with one another. This film is really an astonishing achievement, and director Katt Shea should be proud of it. The only reason for not seeing it is if you are not interested in people. But even if you like nature films best, this is after all animal behaviour at the sharp edge. Bulimia is an extreme version of how a tormented soul can destroy her own body in a frenzy of despair. And if we don't sympathise with people suffering from the depths of despair, then we are dead inside.\",\n",
       "       b'Okay, you have:<br /><br />Penelope Keith as Miss Herringbone-Tweed, B.B.E. (Backbone of England.) She\\'s killed off in the first scene - that\\'s right, folks; this show has no backbone!<br /><br />Peter O\\'Toole as Ol\\' Colonel Cricket from The First War and now the emblazered Lord of the Manor.<br /><br />Joanna Lumley as the ensweatered Lady of the Manor, 20 years younger than the colonel and 20 years past her own prime but still glamourous (Brit spelling, not mine) enough to have a toy-boy on the side. It\\'s alright, they have Col. Cricket\\'s full knowledge and consent (they guy even comes \\'round for Christmas!) Still, she\\'s considerate of the colonel enough to have said toy-boy her own age (what a gal!)<br /><br />David McCallum as said toy-boy, equally as pointlessly glamourous as his squeeze. Pilcher couldn\\'t come up with any cover for him within the story, so she gave him a hush-hush job at the Circus.<br /><br />and finally:<br /><br />Susan Hampshire as Miss Polonia Teacups, Venerable Headmistress of the Venerable Girls\\' Boarding-School, serving tea in her office with a dash of deep, poignant advice for life in the outside world just before graduation. Her best bit of advice: \"I\\'ve only been to Nancherrow (the local Stately Home of England) once. I thought it was very beautiful but, somehow, not part of the real world.\" Well, we can\\'t say they didn\\'t warn us.<br /><br />Ah, Susan - time was, your character would have been running the whole show. They don\\'t write \\'em like that any more. Our loss, not yours.<br /><br />So - with a cast and setting like this, you have the re-makings of \"Brideshead Revisited,\" right?<br /><br />Wrong! They took these 1-dimensional supporting roles because they paid so well. After all, acting is one of the oldest temp-jobs there is (YOU name another!)<br /><br />First warning sign: lots and lots of backlighting. They get around it by shooting outdoors - \"hey, it\\'s just the sunlight!\"<br /><br />Second warning sign: Leading Lady cries a lot. When not crying, her eyes are moist. That\\'s the law of romance novels: Leading Lady is \"dewy-eyed.\"<br /><br />Henceforth, Leading Lady shall be known as L.L.<br /><br />Third warning sign: L.L. actually has stars in her eyes when she\\'s in love. Still, I\\'ll give Emily Mortimer an award just for having to act with that spotlight in her eyes (I wonder . did they use contacts?)<br /><br />And lastly, fourth warning sign: no on-screen female character is \"Mrs.\" She\\'s either \"Miss\" or \"Lady.\"<br /><br />When all was said and done, I still couldn\\'t tell you who was pursuing whom and why. I couldn\\'t even tell you what was said and done.<br /><br />To sum up: they all live through World War II without anything happening to them at all.<br /><br />OK, at the end, L.L. finds she\\'s lost her parents to the Japanese prison camps and baby sis comes home catatonic. Meanwhile (there\\'s always a \"meanwhile,\") some young guy L.L. had a crush on (when, I don\\'t know) comes home from some wartime tough spot and is found living on the street by Lady of the Manor (must be some street if SHE\\'s going to find him there.) Both war casualties are whisked away to recover at Nancherrow (SOMEBODY has to be \"whisked away\" SOMEWHERE in these romance stories!)<br /><br />Great drama.',\n",
       "       b'The film is based on a genuine 1950s novel.<br /><br />Journalist Colin McInnes wrote a set of three \"London novels\": \"Absolute Beginners\", \"City of Spades\" and \"Mr Love and Justice\". I have read all three. The first two are excellent. The last, perhaps an experiment that did not come off. But McInnes\\'s work is highly acclaimed; and rightly so. This musical is the novelist\\'s ultimate nightmare - to see the fruits of one\\'s mind being turned into a glitzy, badly-acted, soporific one-dimensional apology of a film that says it captures the spirit of 1950s London, and does nothing of the sort.<br /><br />Thank goodness Colin McInnes wasn\\'t alive to witness it.',\n",
       "       b'I really love the sexy action and sci-fi films of the sixties and its because of the actress\\'s that appeared in them. They found the sexiest women to be in these films and it didn\\'t matter if they could act (Remember \"Candy\"?). The reason I was disappointed by this film was because it wasn\\'t nostalgic enough. The story here has a European sci-fi film called \"Dragonfly\" being made and the director is fired. So the producers decide to let a young aspiring filmmaker (Jeremy Davies) to complete the picture. They\\'re is one real beautiful woman in the film who plays Dragonfly but she\\'s barely in it. Film is written and directed by Roman Coppola who uses some of his fathers exploits from his early days and puts it into the script. I wish the film could have been an homage to those early films. They could have lots of cameos by actors who appeared in them. There is one actor in this film who was popular from the sixties and its John Phillip Law (Barbarella). Gerard Depardieu, Giancarlo Giannini and Dean Stockwell appear as well. I guess I\\'m going to have to continue waiting for a director to make a good homage to the films of the sixties. If any are reading this, \"Make it as sexy as you can\"! I\\'ll be waiting!',\n",
       "       b'Sure, this one isn\\'t really a blockbuster, nor does it target such a position. \"Dieter\" is the first name of a quite popular German musician, who is either loved or hated for his kind of acting and thats exactly what this movie is about. It is based on the autobiography \"Dieter Bohlen\" wrote a few years ago but isn\\'t meant to be accurate on that. The movie is filled with some sexual offensive content (at least for American standard) which is either amusing (not for the other \"actors\" of course) or dumb - it depends on your individual kind of humor or on you being a \"Bohlen\"-Fan or not. Technically speaking there isn\\'t much to criticize. Speaking of me I find this movie to be an OK-movie.'],\n",
       "      dtype=object)>"
      ]
     },
     "execution_count": 6,
     "metadata": {},
     "output_type": "execute_result"
    }
   ],
   "source": [
    "train_example_batch"
   ]
  },
  {
   "cell_type": "code",
   "execution_count": 7,
   "id": "d52b7db9-f7c7-4f9f-9656-270dcbc29f4d",
   "metadata": {
    "colab": {
     "base_uri": "https://localhost:8080/"
    },
    "id": "d52b7db9-f7c7-4f9f-9656-270dcbc29f4d",
    "outputId": "d2fbf478-4a30-4099-90b3-95731e8e00c7"
   },
   "outputs": [
    {
     "data": {
      "text/plain": [
       "<tf.Tensor: shape=(10,), dtype=int64, numpy=array([0, 0, 0, 1, 1, 1, 0, 0, 0, 0], dtype=int64)>"
      ]
     },
     "execution_count": 7,
     "metadata": {},
     "output_type": "execute_result"
    }
   ],
   "source": [
    "train_labels_batch"
   ]
  },
  {
   "cell_type": "markdown",
   "id": "XWT8f5lO4g5k",
   "metadata": {
    "id": "XWT8f5lO4g5k"
   },
   "source": [
    "# **Embedding & Defining TensorFlow Hub Layer**\n",
    "\n",
    "<h5> This defines a TensorFlow Hub layer using a pre-trained model for text embedding. You'll need to prefetch data with the actual link to the pre-trained model you want to use.</h5>"
   ]
  },
  {
   "cell_type": "code",
   "execution_count": 8,
   "id": "c18ea3e7-1fea-4bc6-8695-5d1187ab16f3",
   "metadata": {
    "id": "c18ea3e7-1fea-4bc6-8695-5d1187ab16f3"
   },
   "outputs": [],
   "source": [
    "Embedding = (\"https://www.kaggle.com/models/google/gnews-swivel/frameworks/TensorFlow2/variations/tf2-preview-20dim/versions/1\")"
   ]
  },
  {
   "cell_type": "code",
   "execution_count": 9,
   "id": "26b52cc9-0276-45c5-af51-4a8f6cdfce6a",
   "metadata": {
    "id": "26b52cc9-0276-45c5-af51-4a8f6cdfce6a"
   },
   "outputs": [
    {
     "name": "stdout",
     "output_type": "stream",
     "text": [
      "WARNING:tensorflow:From C:\\Users\\User\\AppData\\Local\\Programs\\Python\\Python310\\lib\\site-packages\\tensorflow_hub\\resolver.py:120: The name tf.gfile.MakeDirs is deprecated. Please use tf.io.gfile.makedirs instead.\n",
      "\n"
     ]
    },
    {
     "name": "stderr",
     "output_type": "stream",
     "text": [
      "WARNING:tensorflow:From C:\\Users\\User\\AppData\\Local\\Programs\\Python\\Python310\\lib\\site-packages\\tensorflow_hub\\resolver.py:120: The name tf.gfile.MakeDirs is deprecated. Please use tf.io.gfile.makedirs instead.\n",
      "\n"
     ]
    },
    {
     "name": "stdout",
     "output_type": "stream",
     "text": [
      "WARNING:tensorflow:From C:\\Users\\User\\AppData\\Local\\Programs\\Python\\Python310\\lib\\site-packages\\tensorflow_hub\\module_v2.py:126: The name tf.saved_model.load_v2 is deprecated. Please use tf.compat.v2.saved_model.load instead.\n",
      "\n"
     ]
    },
    {
     "name": "stderr",
     "output_type": "stream",
     "text": [
      "WARNING:tensorflow:From C:\\Users\\User\\AppData\\Local\\Programs\\Python\\Python310\\lib\\site-packages\\tensorflow_hub\\module_v2.py:126: The name tf.saved_model.load_v2 is deprecated. Please use tf.compat.v2.saved_model.load instead.\n",
      "\n"
     ]
    },
    {
     "name": "stdout",
     "output_type": "stream",
     "text": [
      "WARNING:tensorflow:From C:\\Users\\User\\AppData\\Local\\Programs\\Python\\Python310\\lib\\site-packages\\keras\\src\\backend.py:873: The name tf.get_default_graph is deprecated. Please use tf.compat.v1.get_default_graph instead.\n",
      "\n"
     ]
    },
    {
     "name": "stderr",
     "output_type": "stream",
     "text": [
      "WARNING:tensorflow:From C:\\Users\\User\\AppData\\Local\\Programs\\Python\\Python310\\lib\\site-packages\\keras\\src\\backend.py:873: The name tf.get_default_graph is deprecated. Please use tf.compat.v1.get_default_graph instead.\n",
      "\n"
     ]
    }
   ],
   "source": [
    "hub_layer = hub.KerasLayer(Embedding, output_shape=[20], input_shape = [], dtype = tf.string, trainable=True)"
   ]
  },
  {
   "cell_type": "code",
   "execution_count": 10,
   "id": "93f1dc35-1d0b-4c96-a8d5-2f25ba6e4f15",
   "metadata": {
    "colab": {
     "base_uri": "https://localhost:8080/"
    },
    "id": "93f1dc35-1d0b-4c96-a8d5-2f25ba6e4f15",
    "outputId": "8bb16956-a9b9-40c5-ae4f-d203e1332653"
   },
   "outputs": [
    {
     "data": {
      "text/plain": [
       "<tf.Tensor: shape=(3, 20), dtype=float32, numpy=\n",
       "array([[ 1.765786  , -3.882232  ,  3.9134233 , -1.5557289 , -3.3362343 ,\n",
       "        -1.7357955 , -1.9954445 ,  1.2989551 ,  5.081598  , -1.1041286 ,\n",
       "        -2.0503852 , -0.72675157, -0.65675956,  0.24436149, -3.7208383 ,\n",
       "         2.0954835 ,  2.2969332 , -2.0689783 , -2.9489717 , -1.1315987 ],\n",
       "       [ 1.8804485 , -2.5852382 ,  3.4066997 ,  1.0982676 , -4.056685  ,\n",
       "        -4.891284  , -2.785554  ,  1.3874227 ,  3.8476458 , -0.9256538 ,\n",
       "        -1.896706  ,  1.2113281 ,  0.11474707,  0.76209456, -4.8791065 ,\n",
       "         2.906149  ,  4.7087674 , -2.3652055 , -3.5015898 , -1.6390051 ],\n",
       "       [ 0.71152234, -0.6353217 ,  1.7385626 , -1.1168286 , -0.5451594 ,\n",
       "        -1.1808156 ,  0.09504455,  1.4653089 ,  0.66059524,  0.79308075,\n",
       "        -2.2268345 ,  0.07446612, -1.4075904 , -0.70645386, -1.907037  ,\n",
       "         1.4419787 ,  1.9551861 , -0.42660055, -2.8022065 ,  0.43727064]],\n",
       "      dtype=float32)>"
      ]
     },
     "execution_count": 10,
     "metadata": {},
     "output_type": "execute_result"
    }
   ],
   "source": [
    "hub_layer(train_example_batch[:3])"
   ]
  },
  {
   "cell_type": "markdown",
   "id": "MqL5A2it5Q1E",
   "metadata": {
    "id": "MqL5A2it5Q1E"
   },
   "source": [
    "# **Now it's time for Building The Model**\n",
    "\n"
   ]
  },
  {
   "cell_type": "code",
   "execution_count": 11,
   "id": "6dc2227c-43a8-4d01-bc92-32b612121ac7",
   "metadata": {
    "id": "6dc2227c-43a8-4d01-bc92-32b612121ac7"
   },
   "outputs": [],
   "source": [
    "model = tf.keras.Sequential()\n",
    "model.add(hub_layer)\n",
    "model.add(tf.keras.layers.Dense(16, activation = 'relu'))\n",
    "model.add(tf.keras.layers.Dense(1))"
   ]
  },
  {
   "cell_type": "markdown",
   "id": "vf2Lzq3W5v6Y",
   "metadata": {
    "id": "vf2Lzq3W5v6Y"
   },
   "source": [
    "<h5>Here, we have build a sequential model using Keras.\n",
    "<br>This model consists of the TensorFlow Hub layer, followed by a densely connected layer with 16 units and ReLU activation, and finally a densely connected output layer with 1 unit.</h5>"
   ]
  },
  {
   "cell_type": "code",
   "execution_count": 12,
   "id": "4f1d28c2-e37c-4b02-8e0f-41448aef8456",
   "metadata": {
    "colab": {
     "base_uri": "https://localhost:8080/"
    },
    "id": "4f1d28c2-e37c-4b02-8e0f-41448aef8456",
    "outputId": "ddc13cfa-4ece-4320-e0d5-dfbbcaef4b21"
   },
   "outputs": [
    {
     "name": "stdout",
     "output_type": "stream",
     "text": [
      "Model: \"sequential\"\n",
      "_________________________________________________________________\n",
      " Layer (type)                Output Shape              Param #   \n",
      "=================================================================\n",
      " keras_layer (KerasLayer)    (None, 20)                400020    \n",
      "                                                                 \n",
      " dense (Dense)               (None, 16)                336       \n",
      "                                                                 \n",
      " dense_1 (Dense)             (None, 1)                 17        \n",
      "                                                                 \n",
      "=================================================================\n",
      "Total params: 400373 (1.53 MB)\n",
      "Trainable params: 400373 (1.53 MB)\n",
      "Non-trainable params: 0 (0.00 Byte)\n",
      "_________________________________________________________________\n"
     ]
    }
   ],
   "source": [
    "model.summary()"
   ]
  },
  {
   "cell_type": "markdown",
   "id": "SIOL5PAu6JEo",
   "metadata": {
    "id": "SIOL5PAu6JEo"
   },
   "source": [
    "# **Compiling the Model**\n",
    "\n",
    "<h5>This will compile the model, specifying the optimizer, loss function (Binary Crossentropy for binary classification), and evaluation metrics (accuracy).</h5>"
   ]
  },
  {
   "cell_type": "code",
   "execution_count": 13,
   "id": "82b102dd-9155-40ab-bae7-ccbfc681d404",
   "metadata": {
    "id": "82b102dd-9155-40ab-bae7-ccbfc681d404"
   },
   "outputs": [
    {
     "name": "stdout",
     "output_type": "stream",
     "text": [
      "WARNING:tensorflow:From C:\\Users\\User\\AppData\\Local\\Programs\\Python\\Python310\\lib\\site-packages\\keras\\src\\optimizers\\__init__.py:309: The name tf.train.Optimizer is deprecated. Please use tf.compat.v1.train.Optimizer instead.\n",
      "\n"
     ]
    },
    {
     "name": "stderr",
     "output_type": "stream",
     "text": [
      "WARNING:tensorflow:From C:\\Users\\User\\AppData\\Local\\Programs\\Python\\Python310\\lib\\site-packages\\keras\\src\\optimizers\\__init__.py:309: The name tf.train.Optimizer is deprecated. Please use tf.compat.v1.train.Optimizer instead.\n",
      "\n"
     ]
    }
   ],
   "source": [
    "model.compile(optimizer = 'adam',\n",
    "              loss = tf.keras.losses.BinaryCrossentropy(from_logits= True),\n",
    "              metrics=['accuracy'])"
   ]
  },
  {
   "cell_type": "markdown",
   "id": "1UTxRVm46g98",
   "metadata": {
    "id": "1UTxRVm46g98"
   },
   "source": [
    "# **Train the Model**\n",
    "\n",
    "<h5>This trains the model using the training data, shuffling the data with a buffer size of 10000, batching it into batches of 100 examples, and training it for 25 epochs. It also validates the model's performance on the validation data.</h5>\n"
   ]
  },
  {
   "cell_type": "code",
   "execution_count": 14,
   "id": "38c34952-6b7f-47e9-8d94-5975ee69ae08",
   "metadata": {
    "colab": {
     "base_uri": "https://localhost:8080/"
    },
    "id": "38c34952-6b7f-47e9-8d94-5975ee69ae08",
    "outputId": "100b6a8f-ad97-4d5e-b29f-10ff6ac0cffd"
   },
   "outputs": [
    {
     "name": "stdout",
     "output_type": "stream",
     "text": [
      "Epoch 1/25\n",
      "WARNING:tensorflow:From C:\\Users\\User\\AppData\\Local\\Programs\\Python\\Python310\\lib\\site-packages\\keras\\src\\utils\\tf_utils.py:492: The name tf.ragged.RaggedTensorValue is deprecated. Please use tf.compat.v1.ragged.RaggedTensorValue instead.\n",
      "\n"
     ]
    },
    {
     "name": "stderr",
     "output_type": "stream",
     "text": [
      "WARNING:tensorflow:From C:\\Users\\User\\AppData\\Local\\Programs\\Python\\Python310\\lib\\site-packages\\keras\\src\\utils\\tf_utils.py:492: The name tf.ragged.RaggedTensorValue is deprecated. Please use tf.compat.v1.ragged.RaggedTensorValue instead.\n",
      "\n"
     ]
    },
    {
     "name": "stdout",
     "output_type": "stream",
     "text": [
      "WARNING:tensorflow:From C:\\Users\\User\\AppData\\Local\\Programs\\Python\\Python310\\lib\\site-packages\\keras\\src\\engine\\base_layer_utils.py:384: The name tf.executing_eagerly_outside_functions is deprecated. Please use tf.compat.v1.executing_eagerly_outside_functions instead.\n",
      "\n"
     ]
    },
    {
     "name": "stderr",
     "output_type": "stream",
     "text": [
      "WARNING:tensorflow:From C:\\Users\\User\\AppData\\Local\\Programs\\Python\\Python310\\lib\\site-packages\\keras\\src\\engine\\base_layer_utils.py:384: The name tf.executing_eagerly_outside_functions is deprecated. Please use tf.compat.v1.executing_eagerly_outside_functions instead.\n",
      "\n"
     ]
    },
    {
     "name": "stdout",
     "output_type": "stream",
     "text": [
      "150/150 [==============================] - 3s 15ms/step - loss: 0.6842 - accuracy: 0.5495 - val_loss: 0.5933 - val_accuracy: 0.6476\n",
      "Epoch 2/25\n",
      "150/150 [==============================] - 2s 13ms/step - loss: 0.5288 - accuracy: 0.7207 - val_loss: 0.4706 - val_accuracy: 0.7688\n",
      "Epoch 3/25\n",
      "150/150 [==============================] - 2s 13ms/step - loss: 0.4072 - accuracy: 0.8105 - val_loss: 0.3929 - val_accuracy: 0.8109\n",
      "Epoch 4/25\n",
      "150/150 [==============================] - 2s 13ms/step - loss: 0.3283 - accuracy: 0.8593 - val_loss: 0.3479 - val_accuracy: 0.8429\n",
      "Epoch 5/25\n",
      "150/150 [==============================] - 2s 13ms/step - loss: 0.2779 - accuracy: 0.8834 - val_loss: 0.3245 - val_accuracy: 0.8533\n",
      "Epoch 6/25\n",
      "150/150 [==============================] - 2s 13ms/step - loss: 0.2413 - accuracy: 0.9015 - val_loss: 0.3112 - val_accuracy: 0.8640\n",
      "Epoch 7/25\n",
      "150/150 [==============================] - 2s 14ms/step - loss: 0.2077 - accuracy: 0.9169 - val_loss: 0.3108 - val_accuracy: 0.8738\n",
      "Epoch 8/25\n",
      "150/150 [==============================] - 2s 14ms/step - loss: 0.1810 - accuracy: 0.9305 - val_loss: 0.3038 - val_accuracy: 0.8737\n",
      "Epoch 9/25\n",
      "150/150 [==============================] - 2s 14ms/step - loss: 0.1593 - accuracy: 0.9403 - val_loss: 0.3083 - val_accuracy: 0.8685\n",
      "Epoch 10/25\n",
      "150/150 [==============================] - 2s 13ms/step - loss: 0.1378 - accuracy: 0.9508 - val_loss: 0.3124 - val_accuracy: 0.8732\n",
      "Epoch 11/25\n",
      "150/150 [==============================] - 2s 14ms/step - loss: 0.1205 - accuracy: 0.9589 - val_loss: 0.3211 - val_accuracy: 0.8718\n",
      "Epoch 12/25\n",
      "150/150 [==============================] - 2s 14ms/step - loss: 0.1043 - accuracy: 0.9654 - val_loss: 0.3304 - val_accuracy: 0.8699\n",
      "Epoch 13/25\n",
      "150/150 [==============================] - 2s 14ms/step - loss: 0.0892 - accuracy: 0.9725 - val_loss: 0.3428 - val_accuracy: 0.8699\n",
      "Epoch 14/25\n",
      "150/150 [==============================] - 2s 14ms/step - loss: 0.0777 - accuracy: 0.9777 - val_loss: 0.3592 - val_accuracy: 0.8711\n",
      "Epoch 15/25\n",
      "150/150 [==============================] - 2s 13ms/step - loss: 0.0653 - accuracy: 0.9832 - val_loss: 0.3786 - val_accuracy: 0.8691\n",
      "Epoch 16/25\n",
      "150/150 [==============================] - 2s 14ms/step - loss: 0.0554 - accuracy: 0.9865 - val_loss: 0.3935 - val_accuracy: 0.8685\n",
      "Epoch 17/25\n",
      "150/150 [==============================] - 2s 15ms/step - loss: 0.0466 - accuracy: 0.9899 - val_loss: 0.4121 - val_accuracy: 0.8653\n",
      "Epoch 18/25\n",
      "150/150 [==============================] - 2s 16ms/step - loss: 0.0393 - accuracy: 0.9925 - val_loss: 0.4344 - val_accuracy: 0.8646\n",
      "Epoch 19/25\n",
      "150/150 [==============================] - 2s 16ms/step - loss: 0.0326 - accuracy: 0.9944 - val_loss: 0.4541 - val_accuracy: 0.8641\n",
      "Epoch 20/25\n",
      "150/150 [==============================] - 2s 15ms/step - loss: 0.0269 - accuracy: 0.9958 - val_loss: 0.4764 - val_accuracy: 0.8628\n",
      "Epoch 21/25\n",
      "150/150 [==============================] - 2s 16ms/step - loss: 0.0222 - accuracy: 0.9974 - val_loss: 0.5038 - val_accuracy: 0.8612\n",
      "Epoch 22/25\n",
      "150/150 [==============================] - 2s 16ms/step - loss: 0.0179 - accuracy: 0.9982 - val_loss: 0.5277 - val_accuracy: 0.8604\n",
      "Epoch 23/25\n",
      "150/150 [==============================] - 2s 15ms/step - loss: 0.0144 - accuracy: 0.9990 - val_loss: 0.5543 - val_accuracy: 0.8601\n",
      "Epoch 24/25\n",
      "150/150 [==============================] - 2s 14ms/step - loss: 0.0114 - accuracy: 0.9993 - val_loss: 0.5795 - val_accuracy: 0.8595\n",
      "Epoch 25/25\n",
      "150/150 [==============================] - 2s 14ms/step - loss: 0.0092 - accuracy: 0.9995 - val_loss: 0.6030 - val_accuracy: 0.8589\n"
     ]
    }
   ],
   "source": [
    "history = model.fit(train_data.shuffle(10000).batch(100), epochs = 25,\n",
    "                    validation_data = validation_data.batch(100),\n",
    "                    verbose =1)"
   ]
  },
  {
   "cell_type": "markdown",
   "id": "m_pDdlmo7TFF",
   "metadata": {
    "id": "m_pDdlmo7TFF"
   },
   "source": [
    "# **Evaluate the Model**"
   ]
  },
  {
   "cell_type": "code",
   "execution_count": 15,
   "id": "6a8742da-bf3e-427d-8bc0-d99e80a68676",
   "metadata": {
    "colab": {
     "base_uri": "https://localhost:8080/"
    },
    "id": "6a8742da-bf3e-427d-8bc0-d99e80a68676",
    "outputId": "f84581d0-5c88-44d0-a772-48a01774cca0"
   },
   "outputs": [
    {
     "name": "stdout",
     "output_type": "stream",
     "text": [
      "250/250 - 2s - loss: 0.6651 - accuracy: 0.8394 - 2s/epoch - 7ms/step\n",
      "loss: 0.665\n",
      "accuracy: 0.839\n"
     ]
    }
   ],
   "source": [
    "results = model.evaluate(test_data.batch(100), verbose=2)\n",
    "for name, value in zip(model.metrics_names, results):\n",
    "    print(\"%s: %.3f\" % (name,value))"
   ]
  },
  {
   "cell_type": "markdown",
   "id": "dixJR2sJ7fHG",
   "metadata": {
    "id": "dixJR2sJ7fHG"
   },
   "source": [
    "<h5>Finally, this code evaluates the trained model on the test data, printing out the evaluation metrics (loss and accuracy) for the test set.</h5>\n",
    "<b>Loss is 67% & accuracy is 84%</b>"
   ]
  },
  {
   "cell_type": "markdown",
   "id": "e3jw3LQTzXUM",
   "metadata": {
    "id": "e3jw3LQTzXUM"
   },
   "source": [
    "<h2 style=\"text-align: center;\">!!! Happy  Coding !!!</h2>"
   ]
  },
  {
   "cell_type": "code",
   "execution_count": null,
   "id": "lmGgI2oJzYep",
   "metadata": {
    "id": "lmGgI2oJzYep"
   },
   "outputs": [],
   "source": []
  }
 ],
 "metadata": {
  "accelerator": "GPU",
  "colab": {
   "gpuType": "T4",
   "provenance": []
  },
  "kernelspec": {
   "display_name": "Python 3 (ipykernel)",
   "language": "python",
   "name": "python3"
  },
  "language_info": {
   "codemirror_mode": {
    "name": "ipython",
    "version": 3
   },
   "file_extension": ".py",
   "mimetype": "text/x-python",
   "name": "python",
   "nbconvert_exporter": "python",
   "pygments_lexer": "ipython3",
   "version": "3.10.1"
  }
 },
 "nbformat": 4,
 "nbformat_minor": 5
}
